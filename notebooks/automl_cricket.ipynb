{
 "cells": [
  {
   "cell_type": "code",
   "execution_count": null,
   "id": "55adeeed",
   "metadata": {},
   "outputs": [],
   "source": [
    "import pandas as pd\n",
    "from pycaret.regression import *\n",
    "\n",
    "# Load data\n",
    "df = pd.read_csv('../data/T20_match_score.csv')\n",
    "\n",
    "# Drop unnecessary columns\n",
    "df.drop(['match_id'], axis=1, inplace=True)\n",
    "\n",
    "# Setup PyCaret AutoML\n",
    "reg = setup(data=df, target='final_score', session_id=123, \n",
    "            categorical_features=['batting_team', 'bowling_team', 'venue'], \n",
    "            silent=True)\n",
    "\n",
    "# Run AutoML\n",
    "best_model = compare_models()\n",
    "save_model(best_model, 'best_cricket_model')\n"
   ]
  },
  {
   "cell_type": "code",
   "execution_count": 10,
   "id": "fef7ae07",
   "metadata": {},
   "outputs": [
    {
     "name": "stdout",
     "output_type": "stream",
     "text": [
      "Current directory: d:\\CricketScorePredictor\\notebooks\n",
      "Files: ['automl_cricket.ipynb', 'logs.log']\n"
     ]
    }
   ],
   "source": [
    "import os\n",
    "print(\"Current directory:\", os.getcwd())\n",
    "print(\"Files:\", os.listdir())\n"
   ]
  },
  {
   "cell_type": "code",
   "execution_count": 11,
   "id": "7a633cdf",
   "metadata": {},
   "outputs": [
    {
     "data": {
      "text/html": [
       "<div>\n",
       "<style scoped>\n",
       "    .dataframe tbody tr th:only-of-type {\n",
       "        vertical-align: middle;\n",
       "    }\n",
       "\n",
       "    .dataframe tbody tr th {\n",
       "        vertical-align: top;\n",
       "    }\n",
       "\n",
       "    .dataframe thead th {\n",
       "        text-align: right;\n",
       "    }\n",
       "</style>\n",
       "<table border=\"1\" class=\"dataframe\">\n",
       "  <thead>\n",
       "    <tr style=\"text-align: right;\">\n",
       "      <th></th>\n",
       "      <th>Match ID</th>\n",
       "      <th>Overs Played</th>\n",
       "      <th>Wickets Lost</th>\n",
       "      <th>Run Rate</th>\n",
       "      <th>Home/Away</th>\n",
       "      <th>Opponent Strength</th>\n",
       "      <th>Pitch Condition</th>\n",
       "      <th>Weather</th>\n",
       "      <th>Predicted Score</th>\n",
       "    </tr>\n",
       "  </thead>\n",
       "  <tbody>\n",
       "    <tr>\n",
       "      <th>0</th>\n",
       "      <td>1</td>\n",
       "      <td>7</td>\n",
       "      <td>1</td>\n",
       "      <td>11.04</td>\n",
       "      <td>Away</td>\n",
       "      <td>3</td>\n",
       "      <td>Bowling</td>\n",
       "      <td>Sunny</td>\n",
       "      <td>82</td>\n",
       "    </tr>\n",
       "    <tr>\n",
       "      <th>1</th>\n",
       "      <td>2</td>\n",
       "      <td>20</td>\n",
       "      <td>10</td>\n",
       "      <td>11.87</td>\n",
       "      <td>Home</td>\n",
       "      <td>5</td>\n",
       "      <td>Bowling</td>\n",
       "      <td>Sunny</td>\n",
       "      <td>204</td>\n",
       "    </tr>\n",
       "    <tr>\n",
       "      <th>2</th>\n",
       "      <td>3</td>\n",
       "      <td>15</td>\n",
       "      <td>7</td>\n",
       "      <td>6.14</td>\n",
       "      <td>Home</td>\n",
       "      <td>7</td>\n",
       "      <td>Balanced</td>\n",
       "      <td>Sunny</td>\n",
       "      <td>105</td>\n",
       "    </tr>\n",
       "    <tr>\n",
       "      <th>3</th>\n",
       "      <td>4</td>\n",
       "      <td>11</td>\n",
       "      <td>8</td>\n",
       "      <td>8.84</td>\n",
       "      <td>Home</td>\n",
       "      <td>9</td>\n",
       "      <td>Batting</td>\n",
       "      <td>Cloudy</td>\n",
       "      <td>121</td>\n",
       "    </tr>\n",
       "    <tr>\n",
       "      <th>4</th>\n",
       "      <td>5</td>\n",
       "      <td>8</td>\n",
       "      <td>0</td>\n",
       "      <td>9.56</td>\n",
       "      <td>Home</td>\n",
       "      <td>2</td>\n",
       "      <td>Balanced</td>\n",
       "      <td>Sunny</td>\n",
       "      <td>104</td>\n",
       "    </tr>\n",
       "  </tbody>\n",
       "</table>\n",
       "</div>"
      ],
      "text/plain": [
       "   Match ID  Overs Played  Wickets Lost  Run Rate Home/Away  \\\n",
       "0         1             7             1     11.04      Away   \n",
       "1         2            20            10     11.87      Home   \n",
       "2         3            15             7      6.14      Home   \n",
       "3         4            11             8      8.84      Home   \n",
       "4         5             8             0      9.56      Home   \n",
       "\n",
       "   Opponent Strength Pitch Condition Weather  Predicted Score  \n",
       "0                  3         Bowling   Sunny               82  \n",
       "1                  5         Bowling   Sunny              204  \n",
       "2                  7        Balanced   Sunny              105  \n",
       "3                  9         Batting  Cloudy              121  \n",
       "4                  2        Balanced   Sunny              104  "
      ]
     },
     "execution_count": 11,
     "metadata": {},
     "output_type": "execute_result"
    }
   ],
   "source": [
    "# 📦 Step 1: Import Libraries\n",
    "import pandas as pd\n",
    "from pycaret.regression import *\n",
    "\n",
    "# 📁 Step 2: Load the dataset from main folder\n",
    "df = pd.read_csv('t20_cricket_match_score_prediction.csv')\n",
    "\n",
    "# 🔍 Step 3: View basic info (optional)\n",
    "df.head()\n"
   ]
  },
  {
   "cell_type": "code",
   "execution_count": 12,
   "id": "8d4d137a",
   "metadata": {},
   "outputs": [
    {
     "name": "stdout",
     "output_type": "stream",
     "text": [
      "<class 'pandas.core.frame.DataFrame'>\n",
      "RangeIndex: 1500 entries, 0 to 1499\n",
      "Data columns (total 9 columns):\n",
      " #   Column             Non-Null Count  Dtype  \n",
      "---  ------             --------------  -----  \n",
      " 0   Match ID           1500 non-null   int64  \n",
      " 1   Overs Played       1500 non-null   int64  \n",
      " 2   Wickets Lost       1500 non-null   int64  \n",
      " 3   Run Rate           1500 non-null   float64\n",
      " 4   Home/Away          1500 non-null   object \n",
      " 5   Opponent Strength  1500 non-null   int64  \n",
      " 6   Pitch Condition    1500 non-null   object \n",
      " 7   Weather            1500 non-null   object \n",
      " 8   Predicted Score    1500 non-null   int64  \n",
      "dtypes: float64(1), int64(5), object(3)\n",
      "memory usage: 105.6+ KB\n"
     ]
    }
   ],
   "source": [
    "# 🧹 Step 4: Drop unnecessary column (if it exists)\n",
    "if 'match_id' in df.columns:\n",
    "    df.drop('match_id', axis=1, inplace=True)\n",
    "\n",
    "df.info()\n"
   ]
  },
  {
   "cell_type": "code",
   "execution_count": 23,
   "id": "d9b265ed",
   "metadata": {},
   "outputs": [
    {
     "name": "stdout",
     "output_type": "stream",
     "text": [
      "Cleaned Columns: Index(['match_id', 'overs_played', 'wickets_lost', 'run_rate', 'home/away',\n",
      "       'opponent_strength', 'pitch_condition', 'weather', 'predicted_score'],\n",
      "      dtype='object')\n"
     ]
    },
    {
     "data": {
      "text/html": [
       "<style type=\"text/css\">\n",
       "#T_4e972_row9_col1 {\n",
       "  background-color: lightgreen;\n",
       "}\n",
       "</style>\n",
       "<table id=\"T_4e972\">\n",
       "  <thead>\n",
       "    <tr>\n",
       "      <th class=\"blank level0\" >&nbsp;</th>\n",
       "      <th id=\"T_4e972_level0_col0\" class=\"col_heading level0 col0\" >Description</th>\n",
       "      <th id=\"T_4e972_level0_col1\" class=\"col_heading level0 col1\" >Value</th>\n",
       "    </tr>\n",
       "  </thead>\n",
       "  <tbody>\n",
       "    <tr>\n",
       "      <th id=\"T_4e972_level0_row0\" class=\"row_heading level0 row0\" >0</th>\n",
       "      <td id=\"T_4e972_row0_col0\" class=\"data row0 col0\" >Session id</td>\n",
       "      <td id=\"T_4e972_row0_col1\" class=\"data row0 col1\" >42</td>\n",
       "    </tr>\n",
       "    <tr>\n",
       "      <th id=\"T_4e972_level0_row1\" class=\"row_heading level0 row1\" >1</th>\n",
       "      <td id=\"T_4e972_row1_col0\" class=\"data row1 col0\" >Target</td>\n",
       "      <td id=\"T_4e972_row1_col1\" class=\"data row1 col1\" >predicted_score</td>\n",
       "    </tr>\n",
       "    <tr>\n",
       "      <th id=\"T_4e972_level0_row2\" class=\"row_heading level0 row2\" >2</th>\n",
       "      <td id=\"T_4e972_row2_col0\" class=\"data row2 col0\" >Target type</td>\n",
       "      <td id=\"T_4e972_row2_col1\" class=\"data row2 col1\" >Regression</td>\n",
       "    </tr>\n",
       "    <tr>\n",
       "      <th id=\"T_4e972_level0_row3\" class=\"row_heading level0 row3\" >3</th>\n",
       "      <td id=\"T_4e972_row3_col0\" class=\"data row3 col0\" >Original data shape</td>\n",
       "      <td id=\"T_4e972_row3_col1\" class=\"data row3 col1\" >(1500, 9)</td>\n",
       "    </tr>\n",
       "    <tr>\n",
       "      <th id=\"T_4e972_level0_row4\" class=\"row_heading level0 row4\" >4</th>\n",
       "      <td id=\"T_4e972_row4_col0\" class=\"data row4 col0\" >Transformed data shape</td>\n",
       "      <td id=\"T_4e972_row4_col1\" class=\"data row4 col1\" >(1500, 13)</td>\n",
       "    </tr>\n",
       "    <tr>\n",
       "      <th id=\"T_4e972_level0_row5\" class=\"row_heading level0 row5\" >5</th>\n",
       "      <td id=\"T_4e972_row5_col0\" class=\"data row5 col0\" >Transformed train set shape</td>\n",
       "      <td id=\"T_4e972_row5_col1\" class=\"data row5 col1\" >(1050, 13)</td>\n",
       "    </tr>\n",
       "    <tr>\n",
       "      <th id=\"T_4e972_level0_row6\" class=\"row_heading level0 row6\" >6</th>\n",
       "      <td id=\"T_4e972_row6_col0\" class=\"data row6 col0\" >Transformed test set shape</td>\n",
       "      <td id=\"T_4e972_row6_col1\" class=\"data row6 col1\" >(450, 13)</td>\n",
       "    </tr>\n",
       "    <tr>\n",
       "      <th id=\"T_4e972_level0_row7\" class=\"row_heading level0 row7\" >7</th>\n",
       "      <td id=\"T_4e972_row7_col0\" class=\"data row7 col0\" >Numeric features</td>\n",
       "      <td id=\"T_4e972_row7_col1\" class=\"data row7 col1\" >5</td>\n",
       "    </tr>\n",
       "    <tr>\n",
       "      <th id=\"T_4e972_level0_row8\" class=\"row_heading level0 row8\" >8</th>\n",
       "      <td id=\"T_4e972_row8_col0\" class=\"data row8 col0\" >Categorical features</td>\n",
       "      <td id=\"T_4e972_row8_col1\" class=\"data row8 col1\" >3</td>\n",
       "    </tr>\n",
       "    <tr>\n",
       "      <th id=\"T_4e972_level0_row9\" class=\"row_heading level0 row9\" >9</th>\n",
       "      <td id=\"T_4e972_row9_col0\" class=\"data row9 col0\" >Preprocess</td>\n",
       "      <td id=\"T_4e972_row9_col1\" class=\"data row9 col1\" >True</td>\n",
       "    </tr>\n",
       "    <tr>\n",
       "      <th id=\"T_4e972_level0_row10\" class=\"row_heading level0 row10\" >10</th>\n",
       "      <td id=\"T_4e972_row10_col0\" class=\"data row10 col0\" >Imputation type</td>\n",
       "      <td id=\"T_4e972_row10_col1\" class=\"data row10 col1\" >simple</td>\n",
       "    </tr>\n",
       "    <tr>\n",
       "      <th id=\"T_4e972_level0_row11\" class=\"row_heading level0 row11\" >11</th>\n",
       "      <td id=\"T_4e972_row11_col0\" class=\"data row11 col0\" >Numeric imputation</td>\n",
       "      <td id=\"T_4e972_row11_col1\" class=\"data row11 col1\" >mean</td>\n",
       "    </tr>\n",
       "    <tr>\n",
       "      <th id=\"T_4e972_level0_row12\" class=\"row_heading level0 row12\" >12</th>\n",
       "      <td id=\"T_4e972_row12_col0\" class=\"data row12 col0\" >Categorical imputation</td>\n",
       "      <td id=\"T_4e972_row12_col1\" class=\"data row12 col1\" >mode</td>\n",
       "    </tr>\n",
       "    <tr>\n",
       "      <th id=\"T_4e972_level0_row13\" class=\"row_heading level0 row13\" >13</th>\n",
       "      <td id=\"T_4e972_row13_col0\" class=\"data row13 col0\" >Maximum one-hot encoding</td>\n",
       "      <td id=\"T_4e972_row13_col1\" class=\"data row13 col1\" >25</td>\n",
       "    </tr>\n",
       "    <tr>\n",
       "      <th id=\"T_4e972_level0_row14\" class=\"row_heading level0 row14\" >14</th>\n",
       "      <td id=\"T_4e972_row14_col0\" class=\"data row14 col0\" >Encoding method</td>\n",
       "      <td id=\"T_4e972_row14_col1\" class=\"data row14 col1\" >None</td>\n",
       "    </tr>\n",
       "    <tr>\n",
       "      <th id=\"T_4e972_level0_row15\" class=\"row_heading level0 row15\" >15</th>\n",
       "      <td id=\"T_4e972_row15_col0\" class=\"data row15 col0\" >Fold Generator</td>\n",
       "      <td id=\"T_4e972_row15_col1\" class=\"data row15 col1\" >KFold</td>\n",
       "    </tr>\n",
       "    <tr>\n",
       "      <th id=\"T_4e972_level0_row16\" class=\"row_heading level0 row16\" >16</th>\n",
       "      <td id=\"T_4e972_row16_col0\" class=\"data row16 col0\" >Fold Number</td>\n",
       "      <td id=\"T_4e972_row16_col1\" class=\"data row16 col1\" >10</td>\n",
       "    </tr>\n",
       "    <tr>\n",
       "      <th id=\"T_4e972_level0_row17\" class=\"row_heading level0 row17\" >17</th>\n",
       "      <td id=\"T_4e972_row17_col0\" class=\"data row17 col0\" >CPU Jobs</td>\n",
       "      <td id=\"T_4e972_row17_col1\" class=\"data row17 col1\" >-1</td>\n",
       "    </tr>\n",
       "    <tr>\n",
       "      <th id=\"T_4e972_level0_row18\" class=\"row_heading level0 row18\" >18</th>\n",
       "      <td id=\"T_4e972_row18_col0\" class=\"data row18 col0\" >Use GPU</td>\n",
       "      <td id=\"T_4e972_row18_col1\" class=\"data row18 col1\" >False</td>\n",
       "    </tr>\n",
       "    <tr>\n",
       "      <th id=\"T_4e972_level0_row19\" class=\"row_heading level0 row19\" >19</th>\n",
       "      <td id=\"T_4e972_row19_col0\" class=\"data row19 col0\" >Log Experiment</td>\n",
       "      <td id=\"T_4e972_row19_col1\" class=\"data row19 col1\" >False</td>\n",
       "    </tr>\n",
       "    <tr>\n",
       "      <th id=\"T_4e972_level0_row20\" class=\"row_heading level0 row20\" >20</th>\n",
       "      <td id=\"T_4e972_row20_col0\" class=\"data row20 col0\" >Experiment Name</td>\n",
       "      <td id=\"T_4e972_row20_col1\" class=\"data row20 col1\" >reg-default-name</td>\n",
       "    </tr>\n",
       "    <tr>\n",
       "      <th id=\"T_4e972_level0_row21\" class=\"row_heading level0 row21\" >21</th>\n",
       "      <td id=\"T_4e972_row21_col0\" class=\"data row21 col0\" >USI</td>\n",
       "      <td id=\"T_4e972_row21_col1\" class=\"data row21 col1\" >0a21</td>\n",
       "    </tr>\n",
       "  </tbody>\n",
       "</table>\n"
      ],
      "text/plain": [
       "<pandas.io.formats.style.Styler at 0x20fb3b4fca0>"
      ]
     },
     "metadata": {},
     "output_type": "display_data"
    }
   ],
   "source": [
    "# 📦 Step 1: Import libraries\n",
    "import pandas as pd\n",
    "from pycaret.regression import *\n",
    "\n",
    "# 📁 Step 2: Load dataset\n",
    "df = pd.read_csv('t20_cricket_match_score_prediction.csv')\n",
    "\n",
    "# 🧹 Step 3: Clean column names\n",
    "df.columns = df.columns.str.strip().str.lower().str.replace(' ', '_')\n",
    "print(\"Cleaned Columns:\", df.columns)\n",
    "\n",
    "# ⚙️ Step 4: Setup PyCaret (correct target)\n",
    "s = setup(\n",
    "    data=df,\n",
    "    target='predicted_score',  # ✅ use cleaned column name\n",
    "    session_id=42\n",
    ")\n"
   ]
  },
  {
   "cell_type": "code",
   "execution_count": 24,
   "id": "5d82eb59",
   "metadata": {},
   "outputs": [
    {
     "data": {
      "text/html": [],
      "text/plain": [
       "<IPython.core.display.HTML object>"
      ]
     },
     "metadata": {},
     "output_type": "display_data"
    },
    {
     "data": {
      "text/html": [],
      "text/plain": [
       "<IPython.core.display.HTML object>"
      ]
     },
     "metadata": {},
     "output_type": "display_data"
    },
    {
     "data": {
      "text/html": [],
      "text/plain": [
       "<IPython.core.display.HTML object>"
      ]
     },
     "metadata": {},
     "output_type": "display_data"
    },
    {
     "name": "stdout",
     "output_type": "stream",
     "text": [
      "Transformation Pipeline and Model Successfully Saved\n"
     ]
    },
    {
     "data": {
      "text/plain": [
       "(Pipeline(memory=Memory(location=None),\n",
       "          steps=[('numerical_imputer',\n",
       "                  TransformerWrapper(include=['match_id', 'overs_played',\n",
       "                                              'wickets_lost', 'run_rate',\n",
       "                                              'opponent_strength'],\n",
       "                                     transformer=SimpleImputer())),\n",
       "                 ('categorical_imputer',\n",
       "                  TransformerWrapper(include=['home/away', 'pitch_condition',\n",
       "                                              'weather'],\n",
       "                                     transformer=SimpleImputer(strategy='most_frequent'))),\n",
       "                 ('ordin...\n",
       "                                                                          'mapping': Away    0\n",
       " Home    1\n",
       " NaN    -1\n",
       " dtype: int64}]))),\n",
       "                 ('onehot_encoding',\n",
       "                  TransformerWrapper(include=['pitch_condition', 'weather'],\n",
       "                                     transformer=OneHotEncoder(cols=['pitch_condition',\n",
       "                                                                     'weather'],\n",
       "                                                               handle_missing='return_nan',\n",
       "                                                               use_cat_names=True))),\n",
       "                 ('clean_column_names',\n",
       "                  TransformerWrapper(transformer=CleanColumnNames())),\n",
       "                 ('trained_model', LGBMRegressor(n_jobs=-1, random_state=42))]),\n",
       " 'best_cricket_model.pkl')"
      ]
     },
     "execution_count": 24,
     "metadata": {},
     "output_type": "execute_result"
    }
   ],
   "source": [
    "# 🧠 Step 5: Train and compare models\n",
    "best_model = compare_models()\n",
    "\n",
    "# 💾 Step 6: Save best model\n",
    "save_model(best_model, 'best_cricket_model')\n"
   ]
  }
 ],
 "metadata": {
  "kernelspec": {
   "display_name": "Python 3",
   "language": "python",
   "name": "python3"
  },
  "language_info": {
   "codemirror_mode": {
    "name": "ipython",
    "version": 3
   },
   "file_extension": ".py",
   "mimetype": "text/x-python",
   "name": "python",
   "nbconvert_exporter": "python",
   "pygments_lexer": "ipython3",
   "version": "3.10.0"
  }
 },
 "nbformat": 4,
 "nbformat_minor": 5
}
